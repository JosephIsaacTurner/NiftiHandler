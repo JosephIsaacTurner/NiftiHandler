{
 "cells": [
  {
   "cell_type": "markdown",
   "metadata": {},
   "source": [
    "### Topological Analysis Notebook\n",
    "\n",
    "**Author: Joseph Turner (jiturner@bwh.harvard.edu)**\n",
    "\n",
    "This notebook identifies the local extrema (minima and maxima) of a continuous 3d NIfTI volume.  \n",
    "It also uses linear regression to represent the NIfTI volume as a linear combination of the connectivity profiles at each local extremum.\n",
    "\n",
    "Returns:  \n",
    "- `topological_results.csv`: a CSV file describing the results of the topological analysis\n",
    "    - Location, regression coefficient and individual correlation to the original NIfTI volume for each local extremum\n",
    "- `regression_map.nii.gz`: A NIfTI volume representing the linear combination of the connectivity profiles at each local extremum, designed to approximate the original NIfTI volume\n",
    "\n",
    "Other important variables:  \n",
    "- `df`: Dataframe representing the results of the topological analysis\n",
    "- `r_squared`: Variable containing the R^2 value of the linear regression"
   ]
  },
  {
   "cell_type": "markdown",
   "metadata": {},
   "source": [
    "#### 1. Determine Local Extrema  \n",
    "Optional: Replace `order=10` with the desired radius of the local extrema search. The smaller the order, the more local extrema will be found."
   ]
  },
  {
   "cell_type": "code",
   "execution_count": null,
   "metadata": {},
   "outputs": [],
   "source": [
    "from nifti_utils.NiftiHandler import NiftiHandler as nh\n",
    "from nifti_utils.NiftiHandler import Coordinate2mm as c2mm\n",
    "import pandas as pd\n",
    "\n",
    "# Path to the NIfTI file\n",
    "path='/PHShome/jt041/projects/takotsubo/PALM_analysis/all_with_mgh(n=72)/_vox_tstat.nii'\n",
    "\n",
    "# Determine the local extrema\n",
    "img = nh.load(path).apply_anatomical_mask()\n",
    "\n",
    "df = img.get_local_extrema(order=10) # Order is the number of voxels to consider in each direction\n",
    "\n",
    "df['coord_2mm'] = df.apply(lambda x: c2mm((x['x'],x['y'], x['z']), 'voxel'), axis=1)\n",
    "df['mni_coord'] = df['coord_2mm'].apply(lambda x: x.mni_space_coord)\n",
    "df['anatomical_name'] = df['coord_2mm'].progress_apply(lambda x: x.anatomical_name)\n",
    "df['path'] = '/data/nimlab/precomputed_connectomes/GSP1000_MF/' + df['x'].astype(str) + '_' + df['y'].astype(str) + '_' + df['z'].astype(str) + '_T.nii.gz'\n",
    "df['x'] = df['mni_coord'].apply(lambda x: x[0])\n",
    "df['y'] = df['mni_coord'].apply(lambda x: x[1])\n",
    "df['z'] = df['mni_coord'].apply(lambda x: x[2])\n",
    "df['image'] = df['path'].progress_apply(nh.load)\n",
    "df.drop(columns=['coord_2mm', 'mni_coord'], inplace=True)"
   ]
  },
  {
   "cell_type": "markdown",
   "metadata": {},
   "source": [
    "#### 2. Linear Regression on Local Extrema Voxel Connectivity\n",
    "Optional: Set `feature_selection = True` to select a specific number of local extrema to use in the linear regression model."
   ]
  },
  {
   "cell_type": "code",
   "execution_count": null,
   "metadata": {},
   "outputs": [],
   "source": [
    "import numpy as np\n",
    "from sklearn.linear_model import LinearRegression\n",
    "import nibabel as nib\n",
    "from nifti_utils.AnalysisUtils import ImageComparison\n",
    "\n",
    "# Extract data arrays\n",
    "X = np.vstack(df['image'].apply(lambda x: x.data.flatten())).T\n",
    "y = img.data.flatten()\n",
    "\n",
    "# Optional feature selection\n",
    "feature_selection = True  # Change to True to select specific extrema to use as features\n",
    "\n",
    "if feature_selection:\n",
    "    total_features = X.shape[1]\n",
    "    \n",
    "    no_of_correlated_voxels = 10 # Replace with desired number of correlated voxels to use in the model    \n",
    "    no_of_anticorrelated_voxels = 5 # Replace with desired number of anticorrelated voxels to use in the model\n",
    "\n",
    "    no_of_correlated_voxels = min(no_of_correlated_voxels, len(df[df['value']>0]))\n",
    "    first_part_indices = np.arange(no_of_correlated_voxels)\n",
    "    no_of_anticorrelated_voxels = min(no_of_anticorrelated_voxels, len(df[df['value']<0]))\n",
    "    last_part_indices = np.arange(total_features - no_of_anticorrelated_voxels, total_features)\n",
    "    selected_features_indices = np.concatenate((first_part_indices, last_part_indices))\n",
    "    \n",
    "    # Select features based on these indices\n",
    "    X = X[:, selected_features_indices]\n",
    "\n",
    "X = np.nan_to_num(X)\n",
    "\n",
    "# Train the model\n",
    "model = LinearRegression()\n",
    "model.fit(X, y)\n",
    "r_squared = model.score(X, y)\n",
    "\n",
    "# Extract model coefficients\n",
    "coefficients = model.coef_\n",
    "\n",
    "if feature_selection:\n",
    "    full_coefficients = np.zeros(total_features)\n",
    "    full_coefficients[selected_features_indices] = model.coef_\n",
    "else:\n",
    "    full_coefficients = model.coef_\n",
    "\n",
    "df['coefficient'] = full_coefficients\n",
    "\n",
    "df = df[df['coefficient'] != 0].reset_index(drop=True)\n",
    "\n",
    "# Correlate the original image with the selected images\n",
    "\n",
    "comparer = ImageComparison()\n",
    "img_fake = nh.load('/data/nimlab/dl_archive/takutsuboLesions_GSP1000_V3/sub-01an2020/connectivity/sub-01an2020_tome-GSP1000uMF_space-2mm_stat-avgRFz_conn.nii.gz')\n",
    "df['images_to_correlate'] = df['image'].apply(lambda x: x.copy())\n",
    "correlation_df = comparer.correlate_image_with_list_as_df(img.copy(), df['images_to_correlate'].copy(deep=True).tolist()) # This is the line that is causing the issue\n",
    "df['correlation'] = correlation_df['correlation']\n",
    "df.drop(columns=['images_to_correlate'], inplace=True)\n",
    "\n",
    "# Generate the combined image\n",
    "original_shape = img.shape\n",
    "combined_image_data = np.dot(X, df[df['coefficient']!=0]['coefficient'].values)\n",
    "combined_image = combined_image_data.reshape(original_shape)\n",
    "\n",
    "print(f'R-squared: {r_squared}')\n",
    "display(df)"
   ]
  },
  {
   "cell_type": "markdown",
   "metadata": {},
   "source": [
    "#### 3. Save Results (CSV and NIfTI)"
   ]
  },
  {
   "cell_type": "code",
   "execution_count": null,
   "metadata": {},
   "outputs": [],
   "source": [
    "regression_image = nh.load(combined_image)\n",
    "regression_image.nifti_obj.to_filename('regression_map.nii.gz') # Replace with desired output filename\n",
    "\n",
    "df.copy().drop(columns=['image']).to_csv('topological_results.csv', index=False)\n",
    "display(df)"
   ]
  }
 ],
 "metadata": {
  "kernelspec": {
   "display_name": "brain_classifier_env",
   "language": "python",
   "name": "python3"
  },
  "language_info": {
   "codemirror_mode": {
    "name": "ipython",
    "version": 3
   },
   "file_extension": ".py",
   "mimetype": "text/x-python",
   "name": "python",
   "nbconvert_exporter": "python",
   "pygments_lexer": "ipython3",
   "version": "3.12.1"
  }
 },
 "nbformat": 4,
 "nbformat_minor": 2
}
