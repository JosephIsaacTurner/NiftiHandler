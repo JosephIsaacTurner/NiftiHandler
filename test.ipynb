{
 "cells": [
  {
   "cell_type": "code",
   "execution_count": 7,
   "metadata": {},
   "outputs": [
    {
     "data": {
      "text/plain": [
       "['Right Cerebral White Matter', 'Lateral Occipital Cortex, inferior division']"
      ]
     },
     "execution_count": 7,
     "metadata": {},
     "output_type": "execute_result"
    }
   ],
   "source": [
    "from nifti_utils.NiftiHandlerCustom import NiftiHandlerDjangoS3 as nh\n",
    "# from nifti_utils.AtlasUtils import CustomAtlasLabeler\n",
    "from nifti_utils.AnalysisUtils import ImageComparison, GroupAnalysis\n",
    "\n",
    "# s3_path1 = \"uploads/lesion_files/AliceWonderlandLesionNetwork_Hong_2010_Case01.nii.gz\"\n",
    "# s3_path2 = \"uploads/lesion_files/AliceWonderlandLesionNetwork_Kim_2006_Case01.nii.gz\"\n",
    "# local_path = r\"C:\\Users\\josep\\a_repos\\Takotsubo\\PALM_data\\all_vs_symptoms_vox_tstat.nii\"\n",
    "path = r\"C:\\Users\\josep\\a_repos\\takotsubo\\ts_top_lesions\\sub-66karnatovskaia2012_space-2mm_lesionMask.nii.gz\"\n",
    "\n",
    "img = nh.load(path)\n",
    "img.center_of_mass\n",
    "\n",
    "img.anatomical_name_at_center_of_mass"
   ]
  },
  {
   "cell_type": "code",
   "execution_count": 10,
   "metadata": {},
   "outputs": [
    {
     "name": "stderr",
     "output_type": "stream",
     "text": [
      "c:\\Users\\josep\\miniconda3\\envs\\ni_env\\Lib\\site-packages\\numpy\\core\\_methods.py:206: RuntimeWarning: Degrees of freedom <= 0 for slice\n",
      "  ret = _var(a, axis=axis, dtype=dtype, out=out, ddof=ddof,\n",
      "c:\\Users\\josep\\miniconda3\\envs\\ni_env\\Lib\\site-packages\\numpy\\core\\_methods.py:198: RuntimeWarning: invalid value encountered in scalar divide\n",
      "  ret = ret.dtype.type(ret / rcount)\n"
     ]
    },
    {
     "data": {
      "text/html": [
       "<div>\n",
       "<style scoped>\n",
       "    .dataframe tbody tr th:only-of-type {\n",
       "        vertical-align: middle;\n",
       "    }\n",
       "\n",
       "    .dataframe tbody tr th {\n",
       "        vertical-align: top;\n",
       "    }\n",
       "\n",
       "    .dataframe thead th {\n",
       "        text-align: right;\n",
       "    }\n",
       "</style>\n",
       "<table border=\"1\" class=\"dataframe\">\n",
       "  <thead>\n",
       "    <tr style=\"text-align: right;\">\n",
       "      <th></th>\n",
       "      <th>correlation</th>\n",
       "      <th>path1</th>\n",
       "      <th>path2</th>\n",
       "      <th>symptom1</th>\n",
       "      <th>symptom2</th>\n",
       "    </tr>\n",
       "  </thead>\n",
       "  <tbody>\n",
       "    <tr>\n",
       "      <th>0</th>\n",
       "      <td>-0.212197</td>\n",
       "      <td>C:\\Users\\josep\\a_repos\\Takotsubo\\emotion_regul...</td>\n",
       "      <td>C:\\Users\\josep\\a_repos\\Takotsubo\\emotion_regul...</td>\n",
       "      <td>emotion_regulation1</td>\n",
       "      <td>emotion_regulation2</td>\n",
       "    </tr>\n",
       "    <tr>\n",
       "      <th>1</th>\n",
       "      <td>-0.134790</td>\n",
       "      <td>C:\\Users\\josep\\a_repos\\Takotsubo\\emotion_regul...</td>\n",
       "      <td>C:\\Users\\josep\\a_repos\\Takotsubo\\emotion_regul...</td>\n",
       "      <td>emotion_regulation1</td>\n",
       "      <td>medulla_func_t</td>\n",
       "    </tr>\n",
       "    <tr>\n",
       "      <th>2</th>\n",
       "      <td>0.033760</td>\n",
       "      <td>C:\\Users\\josep\\a_repos\\Takotsubo\\emotion_regul...</td>\n",
       "      <td>C:\\Users\\josep\\a_repos\\Takotsubo\\emotion_regul...</td>\n",
       "      <td>emotion_regulation2</td>\n",
       "      <td>medulla_func_t</td>\n",
       "    </tr>\n",
       "  </tbody>\n",
       "</table>\n",
       "</div>"
      ],
      "text/plain": [
       "   correlation                                              path1  \\\n",
       "0    -0.212197  C:\\Users\\josep\\a_repos\\Takotsubo\\emotion_regul...   \n",
       "1    -0.134790  C:\\Users\\josep\\a_repos\\Takotsubo\\emotion_regul...   \n",
       "2     0.033760  C:\\Users\\josep\\a_repos\\Takotsubo\\emotion_regul...   \n",
       "\n",
       "                                               path2             symptom1  \\\n",
       "0  C:\\Users\\josep\\a_repos\\Takotsubo\\emotion_regul...  emotion_regulation1   \n",
       "1  C:\\Users\\josep\\a_repos\\Takotsubo\\emotion_regul...  emotion_regulation1   \n",
       "2  C:\\Users\\josep\\a_repos\\Takotsubo\\emotion_regul...  emotion_regulation2   \n",
       "\n",
       "              symptom2  \n",
       "0  emotion_regulation2  \n",
       "1       medulla_func_t  \n",
       "2       medulla_func_t  "
      ]
     },
     "metadata": {},
     "output_type": "display_data"
    }
   ],
   "source": [
    "emotion_regulation1 = r\"C:\\Users\\josep\\a_repos\\Takotsubo\\emotion_regulation_data\\Figure_3C.nii\"\n",
    "emotion_regulation2 = r\"C:\\Users\\josep\\a_repos\\Takotsubo\\emotion_regulation_data\\Figure_4A.nii\"\n",
    "medulla_func_t = r\"C:\\Users\\josep\\a_repos\\Takotsubo\\emotion_regulation_data\\precom_t_medulla_seed.nii.gz\"\n",
    "\n",
    "data = [\n",
    "    {'path':emotion_regulation1, 'symptom':'emotion_regulation1'},\n",
    "    {'path':emotion_regulation2, 'symptom':'emotion_regulation2'},\n",
    "    {'path':medulla_func_t, 'symptom':'medulla_func_t'}\n",
    "]\n",
    "\n",
    "df1, df2 = GroupAnalysis(data).cross_correlation_analysis()\n",
    "\n",
    "display(df1)\n"
   ]
  }
 ],
 "metadata": {
  "kernelspec": {
   "display_name": "brain_classifier_env",
   "language": "python",
   "name": "python3"
  },
  "language_info": {
   "codemirror_mode": {
    "name": "ipython",
    "version": 3
   },
   "file_extension": ".py",
   "mimetype": "text/x-python",
   "name": "python",
   "nbconvert_exporter": "python",
   "pygments_lexer": "ipython3",
   "version": "3.11.7"
  }
 },
 "nbformat": 4,
 "nbformat_minor": 2
}
